{
 "cells": [
  {
   "cell_type": "code",
   "execution_count": 1,
   "id": "5079bb92",
   "metadata": {},
   "outputs": [],
   "source": [
    "import statsmodels.stats.power as smp\n",
    "\n",
    "# 参数设置\n",
    "effect_size = 0.5  # Cohen's d\n",
    "alpha = 0.05       # 显著性水平（双侧检验）\n",
    "power = 0.8        # 统计功效\n"
   ]
  },
  {
   "cell_type": "code",
   "execution_count": 2,
   "id": "ae958662",
   "metadata": {},
   "outputs": [],
   "source": [
    "# 计算样本量\n",
    "sample_size = smp.tt_solve_power(\n",
    "    effect_size=effect_size,\n",
    "    alpha=alpha,\n",
    "    power=power,\n",
    "    alternative='two-sided'  # 双侧检验\n",
    ")\n"
   ]
  },
  {
   "cell_type": "code",
   "execution_count": 3,
   "id": "6d2cd6ee",
   "metadata": {},
   "outputs": [
    {
     "name": "stdout",
     "output_type": "stream",
     "text": [
      "所需被试数量: 34\n"
     ]
    }
   ],
   "source": [
    "# 向上取整并输出\n",
    "import math\n",
    "print(f\"所需被试数量: {math.ceil(sample_size)}\")"
   ]
  }
 ],
 "metadata": {
  "kernelspec": {
   "display_name": "base",
   "language": "python",
   "name": "python3"
  },
  "language_info": {
   "codemirror_mode": {
    "name": "ipython",
    "version": 3
   },
   "file_extension": ".py",
   "mimetype": "text/x-python",
   "name": "python",
   "nbconvert_exporter": "python",
   "pygments_lexer": "ipython3",
   "version": "3.12.9"
  }
 },
 "nbformat": 4,
 "nbformat_minor": 5
}
